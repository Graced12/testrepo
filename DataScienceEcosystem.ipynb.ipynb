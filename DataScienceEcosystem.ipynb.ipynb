{
 "cells": [
  {
   "cell_type": "markdown",
   "id": "0ebfe5e9-2bca-4316-86df-5128c9359a33",
   "metadata": {},
   "source": [
    "# Data Science Tools and Ecosystem"
   ]
  },
  {
   "cell_type": "markdown",
   "id": "6eeed77a-c1dc-4b03-b5fe-653479374ae6",
   "metadata": {},
   "source": [
    "# In this notebook, Data Science Tools and Ecosystem are summarized."
   ]
  },
  {
   "cell_type": "markdown",
   "id": "855df936-80bc-4e26-853d-92e6b9b557b5",
   "metadata": {},
   "source": [
    "# Some of the popular languages that Data Scientists use are:\n",
    "1. python\n",
    "2. C++\n",
    "3. Java"
   ]
  },
  {
   "cell_type": "markdown",
   "id": "e53d021e-7705-4aed-b2e0-bbe20315d9d4",
   "metadata": {},
   "source": [
    "# Some of the commonly used libraries used by Data Scientists include:\n",
    "1. NumPy\n",
    "2. SciPy\n",
    "3. Pandas"
   ]
  },
  {
   "cell_type": "markdown",
   "id": "97ca3d95-a29d-4247-9d3d-a92bdc248430",
   "metadata": {},
   "source": [
    "# Data Science Tools\n",
    "1. JupyterNotebooks\n",
    "2. RStudio\n",
    "3. Apache Spark"
   ]
  },
  {
   "cell_type": "markdown",
   "id": "fbf78562-80d8-4d27-8edf-9cc11938e834",
   "metadata": {
    "tags": []
   },
   "source": [
    "# Introducing arithmetic expression examples.\n",
    "<h3>Below are a few examples of evaluating arithmetic expressions in Python</h3>\n"
   ]
  },
  {
   "cell_type": "code",
   "execution_count": 5,
   "id": "bb4b4bcc-e820-4f7d-b885-40fcb93a3755",
   "metadata": {
    "tags": []
   },
   "outputs": [
    {
     "data": {
      "text/plain": [
       "17"
      ]
     },
     "execution_count": 5,
     "metadata": {},
     "output_type": "execute_result"
    }
   ],
   "source": [
    "\"This a simple arithmetic expression to mutiply then add integers\"\n",
    "(3*4)+5"
   ]
  },
  {
   "cell_type": "code",
   "execution_count": 8,
   "id": "e1f95d3c-d0e0-4804-88f1-e857875a46b5",
   "metadata": {
    "tags": []
   },
   "outputs": [
    {
     "name": "stdout",
     "output_type": "stream",
     "text": [
      "The equivalent of 200 minutes is 3.3333333333333335 hours.\n"
     ]
    }
   ],
   "source": [
    "\"Convert minutes to hours\"\n",
    "minutes = 200\n",
    "hours = minutes / 60\n",
    "\n",
    "print(\"The equivalent of\", minutes, \"minutes is\", hours, \"hours.\")"
   ]
  },
  {
   "cell_type": "markdown",
   "id": "e71614ce-fbca-44a7-a695-fff5557ae6b7",
   "metadata": {},
   "source": [
    "# Objectives\n",
    "3. Python\n",
    "4. Java\n",
    "5. C++"
   ]
  },
  {
   "cell_type": "code",
   "execution_count": 12,
   "id": "0d504a76-ff2a-45d2-a81a-d7cfd26f743e",
   "metadata": {
    "tags": []
   },
   "outputs": [
    {
     "data": {
      "text/plain": [
       "'Nathan'"
      ]
     },
     "execution_count": 12,
     "metadata": {},
     "output_type": "execute_result"
    }
   ],
   "source": [
    "# Author\n",
    "\"Nathan\""
   ]
  },
  {
   "cell_type": "code",
   "execution_count": null,
   "id": "aaf0bb00-7c68-46df-b13f-4d014bd9709f",
   "metadata": {},
   "outputs": [],
   "source": []
  }
 ],
 "metadata": {
  "kernelspec": {
   "display_name": "Python 3 (ipykernel)",
   "language": "python",
   "name": "python3"
  },
  "language_info": {
   "codemirror_mode": {
    "name": "ipython",
    "version": 3
   },
   "file_extension": ".py",
   "mimetype": "text/x-python",
   "name": "python",
   "nbconvert_exporter": "python",
   "pygments_lexer": "ipython3",
   "version": "3.11.5"
  }
 },
 "nbformat": 4,
 "nbformat_minor": 5
}
